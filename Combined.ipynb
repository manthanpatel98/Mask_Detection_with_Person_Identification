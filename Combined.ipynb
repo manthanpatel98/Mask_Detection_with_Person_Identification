{
 "cells": [
  {
   "cell_type": "code",
   "execution_count": 1,
   "metadata": {},
   "outputs": [
    {
     "name": "stderr",
     "output_type": "stream",
     "text": [
      "c:\\users\\manthan\\anaconda3\\envs\\tfod\\lib\\site-packages\\tensorflow\\python\\framework\\dtypes.py:516: FutureWarning: Passing (type, 1) or '1type' as a synonym of type is deprecated; in a future version of numpy, it will be understood as (type, (1,)) / '(1,)type'.\n",
      "  _np_qint8 = np.dtype([(\"qint8\", np.int8, 1)])\n",
      "c:\\users\\manthan\\anaconda3\\envs\\tfod\\lib\\site-packages\\tensorflow\\python\\framework\\dtypes.py:517: FutureWarning: Passing (type, 1) or '1type' as a synonym of type is deprecated; in a future version of numpy, it will be understood as (type, (1,)) / '(1,)type'.\n",
      "  _np_quint8 = np.dtype([(\"quint8\", np.uint8, 1)])\n",
      "c:\\users\\manthan\\anaconda3\\envs\\tfod\\lib\\site-packages\\tensorflow\\python\\framework\\dtypes.py:518: FutureWarning: Passing (type, 1) or '1type' as a synonym of type is deprecated; in a future version of numpy, it will be understood as (type, (1,)) / '(1,)type'.\n",
      "  _np_qint16 = np.dtype([(\"qint16\", np.int16, 1)])\n",
      "c:\\users\\manthan\\anaconda3\\envs\\tfod\\lib\\site-packages\\tensorflow\\python\\framework\\dtypes.py:519: FutureWarning: Passing (type, 1) or '1type' as a synonym of type is deprecated; in a future version of numpy, it will be understood as (type, (1,)) / '(1,)type'.\n",
      "  _np_quint16 = np.dtype([(\"quint16\", np.uint16, 1)])\n",
      "c:\\users\\manthan\\anaconda3\\envs\\tfod\\lib\\site-packages\\tensorflow\\python\\framework\\dtypes.py:520: FutureWarning: Passing (type, 1) or '1type' as a synonym of type is deprecated; in a future version of numpy, it will be understood as (type, (1,)) / '(1,)type'.\n",
      "  _np_qint32 = np.dtype([(\"qint32\", np.int32, 1)])\n",
      "c:\\users\\manthan\\anaconda3\\envs\\tfod\\lib\\site-packages\\tensorflow\\python\\framework\\dtypes.py:525: FutureWarning: Passing (type, 1) or '1type' as a synonym of type is deprecated; in a future version of numpy, it will be understood as (type, (1,)) / '(1,)type'.\n",
      "  np_resource = np.dtype([(\"resource\", np.ubyte, 1)])\n",
      "c:\\users\\manthan\\anaconda3\\envs\\tfod\\lib\\site-packages\\tensorboard\\compat\\tensorflow_stub\\dtypes.py:541: FutureWarning: Passing (type, 1) or '1type' as a synonym of type is deprecated; in a future version of numpy, it will be understood as (type, (1,)) / '(1,)type'.\n",
      "  _np_qint8 = np.dtype([(\"qint8\", np.int8, 1)])\n",
      "c:\\users\\manthan\\anaconda3\\envs\\tfod\\lib\\site-packages\\tensorboard\\compat\\tensorflow_stub\\dtypes.py:542: FutureWarning: Passing (type, 1) or '1type' as a synonym of type is deprecated; in a future version of numpy, it will be understood as (type, (1,)) / '(1,)type'.\n",
      "  _np_quint8 = np.dtype([(\"quint8\", np.uint8, 1)])\n",
      "c:\\users\\manthan\\anaconda3\\envs\\tfod\\lib\\site-packages\\tensorboard\\compat\\tensorflow_stub\\dtypes.py:543: FutureWarning: Passing (type, 1) or '1type' as a synonym of type is deprecated; in a future version of numpy, it will be understood as (type, (1,)) / '(1,)type'.\n",
      "  _np_qint16 = np.dtype([(\"qint16\", np.int16, 1)])\n",
      "c:\\users\\manthan\\anaconda3\\envs\\tfod\\lib\\site-packages\\tensorboard\\compat\\tensorflow_stub\\dtypes.py:544: FutureWarning: Passing (type, 1) or '1type' as a synonym of type is deprecated; in a future version of numpy, it will be understood as (type, (1,)) / '(1,)type'.\n",
      "  _np_quint16 = np.dtype([(\"quint16\", np.uint16, 1)])\n",
      "c:\\users\\manthan\\anaconda3\\envs\\tfod\\lib\\site-packages\\tensorboard\\compat\\tensorflow_stub\\dtypes.py:545: FutureWarning: Passing (type, 1) or '1type' as a synonym of type is deprecated; in a future version of numpy, it will be understood as (type, (1,)) / '(1,)type'.\n",
      "  _np_qint32 = np.dtype([(\"qint32\", np.int32, 1)])\n",
      "c:\\users\\manthan\\anaconda3\\envs\\tfod\\lib\\site-packages\\tensorboard\\compat\\tensorflow_stub\\dtypes.py:550: FutureWarning: Passing (type, 1) or '1type' as a synonym of type is deprecated; in a future version of numpy, it will be understood as (type, (1,)) / '(1,)type'.\n",
      "  np_resource = np.dtype([(\"resource\", np.ubyte, 1)])\n"
     ]
    }
   ],
   "source": [
    "import os\n",
    "import sys\n",
    "#from object_detection.utils import label_map_util\n",
    "#from object_detection.utils import visualization_utils as vis_util\n",
    "import cv2\n",
    "import numpy as np\n",
    "import tensorflow as tf\n",
    "from object_detection.utils import label_map_util\n",
    "from object_detection.utils import visualization_utils as vis_util"
   ]
  },
  {
   "cell_type": "code",
   "execution_count": 2,
   "metadata": {},
   "outputs": [
    {
     "name": "stdout",
     "output_type": "stream",
     "text": [
      "C:\\Users\\Manthan\\Desktop\\TFOD\\models\\research\\images\\img1.png\n",
      "WARNING:tensorflow:From c:\\users\\manthan\\anaconda3\\envs\\tfod\\lib\\site-packages\\object_detection-0.1-py3.6.egg\\object_detection\\utils\\label_map_util.py:132: The name tf.gfile.GFile is deprecated. Please use tf.io.gfile.GFile instead.\n",
      "\n"
     ]
    }
   ],
   "source": [
    "\n",
    "PATH_TO_CKPT = r'C:\\Users\\Manthan\\Desktop\\TFOD\\models\\research\\inference_graph\\frozen_inference_graph.pb'      #os.path.join(CWD_PATH, MODEL_NAME, 'frozen_inference_graph.pb')\n",
    "            # Path to label map file\n",
    "PATH_TO_LABELS = r'C:\\Users\\Manthan\\Desktop\\TFOD\\models\\research\\training\\labelmap.pbtxt' #os.path.join(CWD_PATH, 'research/data', 'labelmap.pbtxt')\n",
    "            #self.PATH_TO_LABELS = \"data/labelmap.pbtxt\"\n",
    "            # Path to images\n",
    "PATH_TO_IMAGE =  r'C:\\Users\\Manthan\\Desktop\\TFOD\\models\\research\\images\\img1.png'     #os.path.join(CWD_PATH, 'research', self.IMAGE_NAME)\n",
    "print(PATH_TO_IMAGE)\n",
    "            # Number of classes the object detector can identify\n",
    "NUM_CLASSES = 2\n",
    "\n",
    "            # Load the label map.\n",
    "            # Label maps map indices to category names, so that when our convolution\n",
    "            # network predicts `5`, we know that this corresponds to `king`.\n",
    "            # Here we use internal utility functions, but anything that returns a\n",
    "            # dictionary mapping integers to appropriate string labels would be fine\n",
    "label_map = label_map_util.load_labelmap(PATH_TO_LABELS)\n",
    "categories = label_map_util.convert_label_map_to_categories(label_map,max_num_classes=NUM_CLASSES,use_display_name=True)\n",
    "category_index = label_map_util.create_category_index(categories)\n",
    "class_names_mapping = {\n",
    "                1: \"without_mask\",2:\"with_mask\"\n",
    "            }\n",
    "detection_graph = tf.Graph()\n",
    "with detection_graph.as_default():\n",
    "    od_graph_def = tf.GraphDef()\n",
    "    with tf.gfile.GFile(PATH_TO_CKPT, 'rb') as fid:\n",
    "        serialized_graph = fid.read()\n",
    "        od_graph_def.ParseFromString(serialized_graph)\n",
    "        tf.import_graph_def(od_graph_def, name='')\n",
    "\n",
    "            # Define input and output tensors (i.e. data) for the object detection classifier\n",
    "\n",
    "            # Input tensor is the image\n",
    "image_tensor = detection_graph.get_tensor_by_name('image_tensor:0')\n",
    "\n",
    "            # Output tensors are the detection boxes, scores, and classes\n",
    "            # Each box represents a part of the image where a particular object was detected\n",
    "detection_boxes = detection_graph.get_tensor_by_name('detection_boxes:0')\n",
    "\n",
    "            # Each score represents level of confidence for each of the objects.\n",
    "            # The score is shown on the result image, together with the class label.\n",
    "detection_scores = detection_graph.get_tensor_by_name('detection_scores:0')\n",
    "detection_classes = detection_graph.get_tensor_by_name('detection_classes:0')\n",
    "\n",
    "            # Number of objects detected\n",
    "num_detections = detection_graph.get_tensor_by_name('num_detections:0')\n"
   ]
  },
  {
   "cell_type": "code",
   "execution_count": 3,
   "metadata": {},
   "outputs": [],
   "source": [
    "def getPrediction():\n",
    "        # Load the Tensorflow model into memory.\n",
    "        # Load image using OpenCV and\n",
    "        # expand image dimensions to have shape: [1, None, None, 3]\n",
    "        # i.e. a single-column array, where each item in the column has the pixel RGB value\n",
    "    sess = tf.Session(graph=detection_graph)\n",
    "    image = cv2.imread(PATH_TO_IMAGE)\n",
    "    image_expanded = np.expand_dims(image, axis=0)\n",
    "        # Perform the actual detection by running the model with the image as input\n",
    "    (boxes, scores, classes, num) = sess.run(\n",
    "            [detection_boxes, detection_scores, detection_classes, num_detections],\n",
    "            feed_dict={image_tensor: image_expanded})\n",
    "\n",
    "    result = scores.flatten()\n",
    "    res = []\n",
    "    for idx in range(0, len(result)):\n",
    "        if result[idx] > .40:\n",
    "            res.append(idx)\n",
    "\n",
    "    top_classes = classes.flatten()\n",
    "        # Selecting class 2 and 3\n",
    "        # top_classes = top_classes[top_classes > 1]\n",
    "    res_list = [top_classes[i] for i in res]\n",
    "\n",
    "    class_final_names = [class_names_mapping[x] for x in res_list]\n",
    "    top_scores = [e for l2 in scores for e in l2 if e > 0.30]\n",
    "        # final_output = list(zip(class_final_names, top_scores))\n",
    "\n",
    "        # print(final_output)\n",
    "\n",
    "        # new_classes = classes.flatten()\n",
    "    new_scores = scores.flatten()\n",
    "\n",
    "    new_boxes = boxes.reshape(300, 4)\n",
    "\n",
    "        # get all boxes from an array\n",
    "    max_boxes_to_draw = new_boxes.shape[0]\n",
    "        # this is set as a default but feel free to adjust it to your needs\n",
    "    min_score_thresh = .30\n",
    "        # iterate over all objects found\n",
    "        # boundingBox = {}\n",
    "        # for i in range(min(max_boxes_to_draw, new_boxes.shape[0])):\n",
    "        #     if new_scores is None or new_scores[i] > min_score_thresh:\n",
    "        #         boundingBox[class_final_names[i]] = new_boxes[i]\n",
    "        #         print(\"Bounding Boxes of\", class_final_names[i], new_boxes[i])\n",
    "\n",
    "    listOfOutput = []\n",
    "    for (name, score, i) in zip(class_final_names, top_scores, range(min(max_boxes_to_draw, new_boxes.shape[0]))):\n",
    "        valDict = {}\n",
    "        valDict[\"className\"] = name\n",
    "        valDict[\"confidence\"] = str(score)\n",
    "        if new_scores is None or new_scores[i] > min_score_thresh:\n",
    "            val = list(new_boxes[i])\n",
    "            valDict[\"yMin\"] = str(val[0])\n",
    "            valDict[\"xMin\"] = str(val[1])\n",
    "            valDict[\"yMax\"] = str(val[2])\n",
    "            valDict[\"xMax\"] = str(val[3])\n",
    "            listOfOutput.append(valDict)\n",
    "        # new_boxes = boxes.reshape(100,4)\n",
    "        # print(new_boxes)\n",
    "        # print(type(new_boxes))\n",
    "        # print(new_boxes.shape)\n",
    "        # print(boxes.shape)\n",
    "        # Draw the results of the detection (aka 'visulaize the results')\n",
    "\n",
    "    vis_util.visualize_boxes_and_labels_on_image_array(\n",
    "            image,\n",
    "            np.squeeze(boxes),\n",
    "            np.squeeze(classes).astype(np.int32),\n",
    "            np.squeeze(scores),\n",
    "            category_index,\n",
    "            use_normalized_coordinates=True,\n",
    "            line_thickness=8,\n",
    "            min_score_thresh=0.60)\n",
    "    output_filename = 'output4.jpg'\n",
    "    #cv2.imshow('',image)\n",
    "    cv2.imwrite(output_filename, image)\n",
    "    return listOfOutput, image"
   ]
  },
  {
   "cell_type": "code",
   "execution_count": 4,
   "metadata": {},
   "outputs": [
    {
     "ename": "TypeError",
     "evalue": "int() argument must be a string, a bytes-like object or a number, not 'NoneType'",
     "output_type": "error",
     "traceback": [
      "\u001b[1;31m---------------------------------------------------------------------------\u001b[0m",
      "\u001b[1;31mTypeError\u001b[0m                                 Traceback (most recent call last)",
      "\u001b[1;32m<ipython-input-4-b74f76100176>\u001b[0m in \u001b[0;36m<module>\u001b[1;34m\u001b[0m\n\u001b[1;32m----> 1\u001b[1;33m \u001b[0mresult\u001b[0m\u001b[1;33m,\u001b[0m \u001b[0mimg\u001b[0m \u001b[1;33m=\u001b[0m \u001b[0mgetPrediction\u001b[0m\u001b[1;33m(\u001b[0m\u001b[1;33m)\u001b[0m\u001b[1;33m\u001b[0m\u001b[1;33m\u001b[0m\u001b[0m\n\u001b[0m",
      "\u001b[1;32m<ipython-input-3-a735cc190d49>\u001b[0m in \u001b[0;36mgetPrediction\u001b[1;34m()\u001b[0m\n\u001b[0;32m     10\u001b[0m     (boxes, scores, classes, num) = sess.run(\n\u001b[0;32m     11\u001b[0m             \u001b[1;33m[\u001b[0m\u001b[0mdetection_boxes\u001b[0m\u001b[1;33m,\u001b[0m \u001b[0mdetection_scores\u001b[0m\u001b[1;33m,\u001b[0m \u001b[0mdetection_classes\u001b[0m\u001b[1;33m,\u001b[0m \u001b[0mnum_detections\u001b[0m\u001b[1;33m]\u001b[0m\u001b[1;33m,\u001b[0m\u001b[1;33m\u001b[0m\u001b[1;33m\u001b[0m\u001b[0m\n\u001b[1;32m---> 12\u001b[1;33m             feed_dict={image_tensor: image_expanded})\n\u001b[0m\u001b[0;32m     13\u001b[0m \u001b[1;33m\u001b[0m\u001b[0m\n\u001b[0;32m     14\u001b[0m     \u001b[0mresult\u001b[0m \u001b[1;33m=\u001b[0m \u001b[0mscores\u001b[0m\u001b[1;33m.\u001b[0m\u001b[0mflatten\u001b[0m\u001b[1;33m(\u001b[0m\u001b[1;33m)\u001b[0m\u001b[1;33m\u001b[0m\u001b[1;33m\u001b[0m\u001b[0m\n",
      "\u001b[1;32mc:\\users\\manthan\\anaconda3\\envs\\tfod\\lib\\site-packages\\tensorflow\\python\\client\\session.py\u001b[0m in \u001b[0;36mrun\u001b[1;34m(self, fetches, feed_dict, options, run_metadata)\u001b[0m\n\u001b[0;32m    948\u001b[0m     \u001b[1;32mtry\u001b[0m\u001b[1;33m:\u001b[0m\u001b[1;33m\u001b[0m\u001b[1;33m\u001b[0m\u001b[0m\n\u001b[0;32m    949\u001b[0m       result = self._run(None, fetches, feed_dict, options_ptr,\n\u001b[1;32m--> 950\u001b[1;33m                          run_metadata_ptr)\n\u001b[0m\u001b[0;32m    951\u001b[0m       \u001b[1;32mif\u001b[0m \u001b[0mrun_metadata\u001b[0m\u001b[1;33m:\u001b[0m\u001b[1;33m\u001b[0m\u001b[1;33m\u001b[0m\u001b[0m\n\u001b[0;32m    952\u001b[0m         \u001b[0mproto_data\u001b[0m \u001b[1;33m=\u001b[0m \u001b[0mtf_session\u001b[0m\u001b[1;33m.\u001b[0m\u001b[0mTF_GetBuffer\u001b[0m\u001b[1;33m(\u001b[0m\u001b[0mrun_metadata_ptr\u001b[0m\u001b[1;33m)\u001b[0m\u001b[1;33m\u001b[0m\u001b[1;33m\u001b[0m\u001b[0m\n",
      "\u001b[1;32mc:\\users\\manthan\\anaconda3\\envs\\tfod\\lib\\site-packages\\tensorflow\\python\\client\\session.py\u001b[0m in \u001b[0;36m_run\u001b[1;34m(self, handle, fetches, feed_dict, options, run_metadata)\u001b[0m\n\u001b[0;32m   1140\u001b[0m             \u001b[0mfeed_handles\u001b[0m\u001b[1;33m[\u001b[0m\u001b[0msubfeed_t\u001b[0m\u001b[1;33m]\u001b[0m \u001b[1;33m=\u001b[0m \u001b[0msubfeed_val\u001b[0m\u001b[1;33m\u001b[0m\u001b[1;33m\u001b[0m\u001b[0m\n\u001b[0;32m   1141\u001b[0m           \u001b[1;32melse\u001b[0m\u001b[1;33m:\u001b[0m\u001b[1;33m\u001b[0m\u001b[1;33m\u001b[0m\u001b[0m\n\u001b[1;32m-> 1142\u001b[1;33m             \u001b[0mnp_val\u001b[0m \u001b[1;33m=\u001b[0m \u001b[0mnp\u001b[0m\u001b[1;33m.\u001b[0m\u001b[0masarray\u001b[0m\u001b[1;33m(\u001b[0m\u001b[0msubfeed_val\u001b[0m\u001b[1;33m,\u001b[0m \u001b[0mdtype\u001b[0m\u001b[1;33m=\u001b[0m\u001b[0msubfeed_dtype\u001b[0m\u001b[1;33m)\u001b[0m\u001b[1;33m\u001b[0m\u001b[1;33m\u001b[0m\u001b[0m\n\u001b[0m\u001b[0;32m   1143\u001b[0m \u001b[1;33m\u001b[0m\u001b[0m\n\u001b[0;32m   1144\u001b[0m           if (not is_tensor_handle_feed and\n",
      "\u001b[1;32mc:\\users\\manthan\\anaconda3\\envs\\tfod\\lib\\site-packages\\numpy\\core\\_asarray.py\u001b[0m in \u001b[0;36masarray\u001b[1;34m(a, dtype, order)\u001b[0m\n\u001b[0;32m     81\u001b[0m \u001b[1;33m\u001b[0m\u001b[0m\n\u001b[0;32m     82\u001b[0m     \"\"\"\n\u001b[1;32m---> 83\u001b[1;33m     \u001b[1;32mreturn\u001b[0m \u001b[0marray\u001b[0m\u001b[1;33m(\u001b[0m\u001b[0ma\u001b[0m\u001b[1;33m,\u001b[0m \u001b[0mdtype\u001b[0m\u001b[1;33m,\u001b[0m \u001b[0mcopy\u001b[0m\u001b[1;33m=\u001b[0m\u001b[1;32mFalse\u001b[0m\u001b[1;33m,\u001b[0m \u001b[0morder\u001b[0m\u001b[1;33m=\u001b[0m\u001b[0morder\u001b[0m\u001b[1;33m)\u001b[0m\u001b[1;33m\u001b[0m\u001b[1;33m\u001b[0m\u001b[0m\n\u001b[0m\u001b[0;32m     84\u001b[0m \u001b[1;33m\u001b[0m\u001b[0m\n\u001b[0;32m     85\u001b[0m \u001b[1;33m\u001b[0m\u001b[0m\n",
      "\u001b[1;31mTypeError\u001b[0m: int() argument must be a string, a bytes-like object or a number, not 'NoneType'"
     ]
    }
   ],
   "source": [
    "result, img = getPrediction()"
   ]
  },
  {
   "cell_type": "code",
   "execution_count": null,
   "metadata": {},
   "outputs": [],
   "source": [
    "print(len(result))"
   ]
  },
  {
   "cell_type": "code",
   "execution_count": null,
   "metadata": {},
   "outputs": [],
   "source": [
    "def cropped_img(img,result):\n",
    "    height = img.shape[0]\n",
    "    width = img.shape[1]\n",
    "    \n",
    "    ymin = float(result[0]['yMin'])\n",
    "    xmin = float(result[0]['xMin'])\n",
    "    ymax = float(result[0]['yMax'])\n",
    "    xmax = float(result[0]['xMax'])\n",
    "    y1 = int(ymin*height)\n",
    "    y2 = int(ymax*height)\n",
    "    x1 = int(xmin*width)\n",
    "    x2 = int(xmax*width)\n",
    "    #print('Y-Min:',ymin,'\\nX-Min:',xmin,'\\nY-Max:',ymax,'\\nX-Max:',xmax,'\\nWidth:',width,'\\nHeight:',height)\n",
    "\n",
    "    new_img = img[y1:y2,x1:x2]\n",
    "    #cv2.imwrite('output.png',new_img)\n",
    "    plt.imshow(new_img)\n",
    "    plt.savefig('output.png')\n",
    "    print(\"Image Saved\")"
   ]
  },
  {
   "cell_type": "code",
   "execution_count": null,
   "metadata": {},
   "outputs": [],
   "source": [
    "import tensorflow.keras \n",
    "from tensorflow.keras.models import load_model\n",
    "from tensorflow.keras.preprocessing import image\n",
    "import numpy as np\n",
    "\n",
    "def model_predict(image_path, model_path):\n",
    "    saved_model = load_model(model_path,compile=False)\n",
    "    img = image.load_img(image_path, target_size=(150, 150))\n",
    "    #image = cv2.resize(img)\n",
    "    # Preprocessing the image\n",
    "    x = image.img_to_array(img,dtype='double')\n",
    "    \n",
    "    x=x/255\n",
    "    x = np.expand_dims(x, axis=0)\n",
    "    #x = preprocess_input(x)\n",
    "\n",
    "    preds = saved_model.predict_classes(x)\n",
    "    \n",
    "    if preds==0:\n",
    "        Output = \"Manthan\"\n",
    "    elif preds==1:\n",
    "        Output= \"Unknown\"\n",
    "    print(Output)\n",
    "        \n",
    "    return Output\n",
    "        \n",
    "\n",
    "img_path = r'C:\\Users\\Manthan\\Desktop\\TFOD\\models\\research\\output.png'\n",
    "model_predict(img_path,'best_model.h5')"
   ]
  },
  {
   "cell_type": "code",
   "execution_count": null,
   "metadata": {},
   "outputs": [],
   "source": [
    "import matplotlib.pyplot as plt\n",
    "%matplotlib inline\n",
    "#new_img = new[x]\n",
    "img_rgb = cv2.cvtColor(img, cv2.COLOR_BGR2RGB)\n",
    "plt.imshow(img_rgb)\n",
    "print(img_rgb.shape[0])"
   ]
  },
  {
   "cell_type": "code",
   "execution_count": 51,
   "metadata": {},
   "outputs": [
    {
     "data": {
      "text/plain": [
       "<matplotlib.image.AxesImage at 0x22b82ad00f0>"
      ]
     },
     "execution_count": 51,
     "metadata": {},
     "output_type": "execute_result"
    },
    {
     "data": {
      "image/png": "[encoded data removed]",
      "text/plain": [
       "<Figure size 432x288 with 1 Axes>"
      ]
     },
     "metadata": {
      "needs_background": "light"
     },
     "output_type": "display_data"
    }
   ],
   "source": [
    "import matplotlib.pyplot as plt\n",
    "%matplotlib inline\n",
    "#new_img = new[x]\n",
    "img_rgb = cv2.cvtColor(img, cv2.COLOR_BGR2RGB)\n",
    "plt.imshow(img_rgb)"
   ]
  },
  {
   "cell_type": "code",
   "execution_count": 20,
   "metadata": {},
   "outputs": [
    {
     "ename": "TypeError",
     "evalue": "default_func() takes 0 positional arguments but 4 were given",
     "output_type": "error",
     "traceback": [
      "\u001b[1;31m---------------------------------------------------------------------------\u001b[0m",
      "\u001b[1;31mTypeError\u001b[0m                                 Traceback (most recent call last)",
      "\u001b[1;32m<ipython-input-20-dd2dd3ba8767>\u001b[0m in \u001b[0;36m<module>\u001b[1;34m\u001b[0m\n\u001b[1;32m----> 1\u001b[1;33m \u001b[0mdefault_func\u001b[0m\u001b[1;33m(\u001b[0m\u001b[0mckpt_path\u001b[0m\u001b[1;33m,\u001b[0m\u001b[0mlabel_path\u001b[0m\u001b[1;33m,\u001b[0m\u001b[0mimg_path\u001b[0m\u001b[1;33m,\u001b[0m\u001b[0mn_classes\u001b[0m\u001b[1;33m)\u001b[0m\u001b[1;33m\u001b[0m\u001b[1;33m\u001b[0m\u001b[0m\n\u001b[0m\u001b[0;32m      2\u001b[0m \u001b[1;33m\u001b[0m\u001b[0m\n\u001b[0;32m      3\u001b[0m \u001b[1;33m\u001b[0m\u001b[0m\n",
      "\u001b[1;31mTypeError\u001b[0m: default_func() takes 0 positional arguments but 4 were given"
     ]
    }
   ],
   "source": [
    "\n",
    "\n",
    "default_func(ckpt_path,label_path,img_path,n_classes)\n",
    "\n",
    "    \n"
   ]
  },
  {
   "cell_type": "code",
   "execution_count": 46,
   "metadata": {},
   "outputs": [
    {
     "ename": "NameError",
     "evalue": "name 'getPrediction' is not defined",
     "output_type": "error",
     "traceback": [
      "\u001b[1;31m---------------------------------------------------------------------------\u001b[0m",
      "\u001b[1;31mNameError\u001b[0m                                 Traceback (most recent call last)",
      "\u001b[1;32m<ipython-input-46-dcc78a09feda>\u001b[0m in \u001b[0;36m<module>\u001b[1;34m\u001b[0m\n\u001b[1;32m----> 1\u001b[1;33m \u001b[0mresult\u001b[0m\u001b[1;33m,\u001b[0m\u001b[0mimg\u001b[0m \u001b[1;33m=\u001b[0m \u001b[0mgetPrediction\u001b[0m\u001b[1;33m(\u001b[0m\u001b[1;33m)\u001b[0m\u001b[1;33m\u001b[0m\u001b[1;33m\u001b[0m\u001b[0m\n\u001b[0m",
      "\u001b[1;31mNameError\u001b[0m: name 'getPrediction' is not defined"
     ]
    }
   ],
   "source": [
    "result,img = getPrediction()\n"
   ]
  },
  {
   "cell_type": "code",
   "execution_count": 137,
   "metadata": {},
   "outputs": [],
   "source": [
    "import os\n",
    "import sys\n",
    "import traceback\n",
    "import cv2\n",
    "import numpy as np\n",
    "import datetime\n",
    "import tensorflow as tf\n",
    "from object_detection.utils import label_map_util\n",
    "from object_detection.utils import visualization_utils as vis_util\n",
    "import matplotlib.pyplot as plt\n",
    "from tensorflow.keras.models import load_model\n",
    "from tensorflow.keras.preprocessing import image\n",
    "import numpy as np\n",
    "\n",
    "\n",
    "class MultiClassObj:\n",
    "    def __init__(self, imagePath):\n",
    "        # This is needed since the notebook is stored in the object_detection folder.\n",
    "        \n",
    "        self.PATH_TO_CKPT = r'E:\\I-Neuron\\My-Projects\\Mask-Detection\\faster_rcnn_inception_v2_coco\\frozen_inference_graph.pb'\n",
    "        # Path to label map file\n",
    "        self.PATH_TO_LABELS = r'E:\\I-Neuron\\My-Projects\\Mask-Detection\\research\\data\\labelmap.pbtxt'\n",
    "        #self.PATH_TO_LABELS = \"data/labelmap.pbtxt\"\n",
    "        # Path to images\n",
    "        self.PATH_TO_IMAGE = imagePath\n",
    "        print(self.PATH_TO_IMAGE)\n",
    "        # Number of classes the object detector can identify\n",
    "        self.NUM_CLASSES = 2\n",
    "\n",
    "        # Load the label map.\n",
    "        # Label maps map indices to category names, so that when our convolution\n",
    "        # network predicts `5`, we know that this corresponds to `king`.\n",
    "        # Here we use internal utility functions, but anything that returns a\n",
    "        # dictionary mapping integers to appropriate string labels would be fine\n",
    "        self.label_map = label_map_util.load_labelmap(self.PATH_TO_LABELS)\n",
    "        self.categories = label_map_util.convert_label_map_to_categories(self.label_map,\n",
    "                                                                         max_num_classes=self.NUM_CLASSES,\n",
    "                                                                         use_display_name=True)\n",
    "        self.category_index = label_map_util.create_category_index(self.categories)\n",
    "        self.class_names_mapping = {\n",
    "            1: \"without_mask\",2:\"with_mask\"\n",
    "        }\n",
    "        self.detection_graph = tf.Graph()\n",
    "        with self.detection_graph.as_default():\n",
    "            od_graph_def = tf.GraphDef()\n",
    "            with tf.gfile.GFile(self.PATH_TO_CKPT, 'rb') as fid:\n",
    "                serialized_graph = fid.read()\n",
    "                od_graph_def.ParseFromString(serialized_graph)\n",
    "                tf.import_graph_def(od_graph_def, name='')\n",
    "\n",
    "        # Define input and output tensors (i.e. data) for the object detection classifier\n",
    "\n",
    "        # Input tensor is the image\n",
    "        self.image_tensor = self.detection_graph.get_tensor_by_name('image_tensor:0')\n",
    "\n",
    "        # Output tensors are the detection boxes, scores, and classes\n",
    "        # Each box represents a part of the image where a particular object was detected\n",
    "        self.detection_boxes = self.detection_graph.get_tensor_by_name('detection_boxes:0')\n",
    "\n",
    "        # Each score represents level of confidence for each of the objects.\n",
    "        # The score is shown on the result image, together with the class label.\n",
    "        self.detection_scores = self.detection_graph.get_tensor_by_name('detection_scores:0')\n",
    "        self.detection_classes = self.detection_graph.get_tensor_by_name('detection_classes:0')\n",
    "\n",
    "        # Number of objects detected\n",
    "        self.num_detections = self.detection_graph.get_tensor_by_name('num_detections:0')\n",
    "\n",
    "    def getPrediction(self):\n",
    "        # Load the Tensorflow model into memory.\n",
    "        # Load image using OpenCV and\n",
    "        # expand image dimensions to have shape: [1, None, None, 3]\n",
    "        # i.e. a single-column array, where each item in the column has the pixel RGB value\n",
    "        sess = tf.Session(graph=self.detection_graph)\n",
    "        image = cv2.imread(self.PATH_TO_IMAGE)\n",
    "        image_expanded = np.expand_dims(image, axis=0)\n",
    "        # Perform the actual detection by running the model with the image as input\n",
    "        (boxes, scores, classes, num) = sess.run(\n",
    "            [self.detection_boxes, self.detection_scores, self.detection_classes, self.num_detections],\n",
    "            feed_dict={self.image_tensor: image_expanded})\n",
    "\n",
    "        result = scores.flatten()\n",
    "        res = []\n",
    "        for idx in range(0, len(result)):\n",
    "            if result[idx] > .40:\n",
    "                res.append(idx)\n",
    "\n",
    "        top_classes = classes.flatten()\n",
    "        # Selecting class 2 and 3\n",
    "        # top_classes = top_classes[top_classes > 1]\n",
    "        res_list = [top_classes[i] for i in res]\n",
    "\n",
    "        class_final_names = [self.class_names_mapping[x] for x in res_list]\n",
    "        top_scores = [e for l2 in scores for e in l2 if e > 0.30]\n",
    "        # final_output = list(zip(class_final_names, top_scores))\n",
    "\n",
    "        # print(final_output)\n",
    "\n",
    "        # new_classes = classes.flatten()\n",
    "        new_scores = scores.flatten()\n",
    "\n",
    "        new_boxes = boxes.reshape(300, 4)\n",
    "\n",
    "        # get all boxes from an array\n",
    "        max_boxes_to_draw = new_boxes.shape[0]\n",
    "        # this is set as a default but feel free to adjust it to your needs\n",
    "        min_score_thresh = .60\n",
    "        # iterate over all objects found\n",
    "        # boundingBox = {}\n",
    "        # for i in range(min(max_boxes_to_draw, new_boxes.shape[0])):\n",
    "        #     if new_scores is None or new_scores[i] > min_score_thresh:\n",
    "        #         boundingBox[class_final_names[i]] = new_boxes[i]\n",
    "        #         print(\"Bounding Boxes of\", class_final_names[i], new_boxes[i])\n",
    "\n",
    "        listOfOutput = []\n",
    "        for (name, score, i) in zip(class_final_names, top_scores, range(min(max_boxes_to_draw, new_boxes.shape[0]))):\n",
    "            valDict = {}\n",
    "            valDict[\"className\"] = name\n",
    "            \n",
    "            valDict[\"confidence\"] = str(score)\n",
    "            if new_scores is None or new_scores[i] > min_score_thresh:\n",
    "                print(valDict[\"className\"])\n",
    "                val = list(new_boxes[i])\n",
    "                valDict[\"yMin\"] = str(val[0])\n",
    "                valDict[\"xMin\"] = str(val[1])\n",
    "                valDict[\"yMax\"] = str(val[2])\n",
    "                valDict[\"xMax\"] = str(val[3])\n",
    "                listOfOutput.append(valDict)\n",
    "        # new_boxes = boxes.reshape(100,4)\n",
    "        # print(new_boxes)\n",
    "        # print(type(new_boxes))\n",
    "        # print(new_boxes.shape)\n",
    "        # print(boxes.shape)\n",
    "        # Draw the results of the detection (aka 'visulaize the results')\n",
    "\n",
    "        vis_util.visualize_boxes_and_labels_on_image_array(\n",
    "            image,\n",
    "            np.squeeze(boxes),\n",
    "            np.squeeze(classes).astype(np.int32),\n",
    "            np.squeeze(scores),\n",
    "            self.category_index,\n",
    "            use_normalized_coordinates=True,\n",
    "            line_thickness=8,\n",
    "            min_score_thresh=0.60)\n",
    "        output_filename = 'output(detection).jpg'\n",
    "        cv2.imwrite('test_images/output/detected/'+output_filename, image)\n",
    "        #cv2.imshow('image',output_filename)\n",
    "        \n",
    "        return listOfOutput, image\n",
    "    \n",
    "    \n",
    "    def cropped_img(self,img,result):\n",
    "        self.img = img\n",
    "        self.result = result\n",
    "        self.height = img.shape[0]\n",
    "        self.width = img.shape[1]\n",
    "        self.c = 0\n",
    "        time = datetime.datetime.now().time()\n",
    "        header = (\"Person\",\"Date\",\"Time\")\n",
    "        filename = 'data.csv'\n",
    "        data = []\n",
    "        for i in range(len(self.result)):\n",
    "            try:\n",
    "                if((result[i]['className'])=='with_mask'):\n",
    "                    print(\"Person with Mask Detected!!\")\n",
    "                    \n",
    "\n",
    "                elif((result[i]['className'])=='without_mask'):\n",
    "                    ymin = float(self.result[i]['yMin'])\n",
    "                    xmin = float(self.result[i]['xMin'])\n",
    "                    ymax = float(self.result[i]['yMax'])\n",
    "                    xmax = float(self.result[i]['xMax'])\n",
    "                    y1 = int(ymin*self.height/1.1)\n",
    "                    y2 = int(ymax*self.height*1.1)\n",
    "                    x1 = int(xmin*self.width/1.1)\n",
    "                    x2 = int(xmax*self.width*1.1)\n",
    "                    #print('Y-Min:',ymin,'\\nX-Min:',xmin,'\\nY-Max:',ymax,'\\nX-Max:',xmax,'\\nWidth:',width,'\\nHeight:',height)\n",
    "\n",
    "                    new_img = self.img[y1:y2,x1:x2]\n",
    "                    #cv2.imwrite('output.png',new_img)\n",
    "                    #plt.imshow(new_img)\n",
    "                    #outfile = '%s/%s.jpg' % ('test_images', 'cropped' + str(datetime.now()))\n",
    "                    #cv2.imwrite(outfile, new_img)\n",
    "                    self.file = 'test_images/output/cropped/output(cropped)'+str(self.c)+'.png'\n",
    "                    cv2.imwrite(self.file,new_img)\n",
    "                    print(\"Image Saved\")\n",
    "                    \n",
    "                    #outfile = '%s/%s.jpg' % (self.tgtdir, self.basename + str(datetime.now()))\n",
    "                    global op \n",
    "                    op = self.model_predict()\n",
    "                    \n",
    "                    \n",
    "                    data.append((op,datetime.datetime.now().date(),time))        \n",
    "            except Exception:\n",
    "                traceback.print_exc()\n",
    "        \n",
    "        self.writer(header,data,filename)\n",
    "        #return op            \n",
    "                \n",
    "        \n",
    "    def model_predict(self):\n",
    "        import glob\n",
    "        \n",
    "        self.image_path = 'test_images/output/cropped/output(cropped)'+str(self.c)+'.png'\n",
    "        self.img_model_path = 'best_model.h5'\n",
    "\n",
    "        saved_model = load_model(self.img_model_path,compile=False)\n",
    "        img = image.load_img(self.image_path, target_size=(150, 150))\n",
    "        #image = cv2.resize(img)\n",
    "        # Preprocessing the image\n",
    "        x = image.img_to_array(img,dtype='double')\n",
    "\n",
    "        x=x/255\n",
    "        x = np.expand_dims(x, axis=0)\n",
    "        #x = preprocess_input(x)\n",
    "\n",
    "        preds = saved_model.predict_classes(x)\n",
    "\n",
    "        if preds==0:\n",
    "            self.Output = \"Manthan\"\n",
    "        elif preds==1:\n",
    "            self.Output= \"Unknown\"\n",
    "        print(self.Output)\n",
    "\n",
    "        t_img = cv2.imread(self.image_path)\n",
    "        t_img = cv2.putText(t_img, \"O/P : \" + str(self.Output), (20, 20),cv2.FONT_HERSHEY_SIMPLEX, 1, (0,255,0), 4)\n",
    "\n",
    "        cv2.imwrite('test_images/output/final_images/output(final)'+str(self.c)+'.png',t_img)\n",
    "        #cv2.imwrite('test_images/output/output(final).jpg',t_img)\n",
    "        self.c = self.c+1\n",
    "\n",
    "        return self.Output\n",
    "        \n",
    "    def writer(self,header, data, filename):\n",
    "        import csv\n",
    "        with open (filename, \"w\", newline = \"\") as csvfile:\n",
    "            self.movies = csv.writer(csvfile)\n",
    "            self.movies.writerow(header)\n",
    "            for x in data:\n",
    "                self.movies.writerow(x)"
   ]
  },
  {
   "cell_type": "code",
   "execution_count": 142,
   "metadata": {},
   "outputs": [
    {
     "name": "stdout",
     "output_type": "stream",
     "text": [
      "E:\\I-Neuron\\My-Projects\\Mask-Detection\\test_images\\input\\t1.jpg\n"
     ]
    }
   ],
   "source": [
    "obj = MultiClassObj(r'E:\\I-Neuron\\My-Projects\\Mask-Detection\\test_images\\input\\t1.jpg')\n",
    "#result, img = obj.getPrediction()"
   ]
  },
  {
   "cell_type": "code",
   "execution_count": 143,
   "metadata": {},
   "outputs": [
    {
     "name": "stdout",
     "output_type": "stream",
     "text": [
      "with_mask\n",
      "without_mask\n"
     ]
    }
   ],
   "source": [
    "result, img = obj.getPrediction()"
   ]
  },
  {
   "cell_type": "code",
   "execution_count": 144,
   "metadata": {},
   "outputs": [
    {
     "name": "stdout",
     "output_type": "stream",
     "text": [
      "Person with Mask Detected!!\n",
      "Image Saved\n",
      "Unknown\n"
     ]
    }
   ],
   "source": [
    "obj.cropped_img(img, result)"
   ]
  },
  {
   "cell_type": "code",
   "execution_count": 145,
   "metadata": {},
   "outputs": [
    {
     "name": "stdout",
     "output_type": "stream",
     "text": [
      "[{'className': 'with_mask', 'confidence': '0.9755819', 'yMin': '0.5451528', 'xMin': '0.45495337', 'yMax': '0.7877423', 'xMax': '0.571498'}, {'className': 'without_mask', 'confidence': '0.8899122', 'yMin': '0.14044431', 'xMin': '0.23220216', 'yMax': '0.32369983', 'xMax': '0.34339476'}]\n"
     ]
    }
   ],
   "source": [
    "print(result)"
   ]
  },
  {
   "cell_type": "code",
   "execution_count": null,
   "metadata": {},
   "outputs": [],
   "source": [
    "import datetime\n",
    "print(datetime.datetime.now().date())\n",
    "   \n"
   ]
  },
  {
   "cell_type": "code",
   "execution_count": null,
   "metadata": {},
   "outputs": [],
   "source": []
  },
  {
   "cell_type": "code",
   "execution_count": null,
   "metadata": {},
   "outputs": [],
   "source": []
  },
  {
   "cell_type": "code",
   "execution_count": 69,
   "metadata": {},
   "outputs": [
    {
     "name": "stdout",
     "output_type": "stream",
     "text": [
      "Unknown\n"
     ]
    }
   ],
   "source": [
    "saved_model = load_model('image-classification.h5',compile=False)\n",
    "img = image.load_img('test_images/input/m1.jpg', target_size=(150, 150))\n",
    "        #image = cv2.resize(img)\n",
    "        # Preprocessing the image\n",
    "x = image.img_to_array(img,dtype='double')\n",
    "\n",
    "x=x/255\n",
    "x = np.expand_dims(x, axis=0)\n",
    "        #x = preprocess_input(x)\n",
    "\n",
    "preds = saved_model.predict_classes(x)\n",
    "\n",
    "if preds==0:\n",
    "    Output = \"Manthan\"\n",
    "elif preds==1:\n",
    "    Output= \"Unknown\"\n",
    "print(Output)"
   ]
  },
  {
   "cell_type": "code",
   "execution_count": 67,
   "metadata": {},
   "outputs": [
    {
     "name": "stdout",
     "output_type": "stream",
     "text": [
      "frame.png\n",
      "without_mask\n",
      "Image Saved\n"
     ]
    },
    {
     "name": "stderr",
     "output_type": "stream",
     "text": [
      "Traceback (most recent call last):\n",
      "  File \"<ipython-input-62-d82bc38c0ad4>\", line 188, in cropped_img\n",
      "    op = self.model_predict()\n",
      "  File \"<ipython-input-62-d82bc38c0ad4>\", line 209, in model_predict\n",
      "    img = image.load_img(self.image_path, target_size=(150, 150))\n",
      "AttributeError: 'numpy.ndarray' object has no attribute 'load_img'\n"
     ]
    },
    {
     "name": "stdout",
     "output_type": "stream",
     "text": [
      "frame.png\n",
      "without_mask\n",
      "Image Saved\n"
     ]
    },
    {
     "name": "stderr",
     "output_type": "stream",
     "text": [
      "Traceback (most recent call last):\n",
      "  File \"<ipython-input-62-d82bc38c0ad4>\", line 188, in cropped_img\n",
      "    op = self.model_predict()\n",
      "  File \"<ipython-input-62-d82bc38c0ad4>\", line 209, in model_predict\n",
      "    img = image.load_img(self.image_path, target_size=(150, 150))\n",
      "AttributeError: 'numpy.ndarray' object has no attribute 'load_img'\n"
     ]
    },
    {
     "name": "stdout",
     "output_type": "stream",
     "text": [
      "frame.png\n",
      "without_mask\n",
      "Image Saved\n"
     ]
    },
    {
     "name": "stderr",
     "output_type": "stream",
     "text": [
      "Traceback (most recent call last):\n",
      "  File \"<ipython-input-62-d82bc38c0ad4>\", line 188, in cropped_img\n",
      "    op = self.model_predict()\n",
      "  File \"<ipython-input-62-d82bc38c0ad4>\", line 209, in model_predict\n",
      "    img = image.load_img(self.image_path, target_size=(150, 150))\n",
      "AttributeError: 'numpy.ndarray' object has no attribute 'load_img'\n"
     ]
    },
    {
     "name": "stdout",
     "output_type": "stream",
     "text": [
      "frame.png\n",
      "without_mask\n",
      "Image Saved\n"
     ]
    },
    {
     "name": "stderr",
     "output_type": "stream",
     "text": [
      "Traceback (most recent call last):\n",
      "  File \"<ipython-input-62-d82bc38c0ad4>\", line 188, in cropped_img\n",
      "    op = self.model_predict()\n",
      "  File \"<ipython-input-62-d82bc38c0ad4>\", line 209, in model_predict\n",
      "    img = image.load_img(self.image_path, target_size=(150, 150))\n",
      "AttributeError: 'numpy.ndarray' object has no attribute 'load_img'\n"
     ]
    },
    {
     "name": "stdout",
     "output_type": "stream",
     "text": [
      "frame.png\n",
      "without_mask\n",
      "Image Saved\n"
     ]
    },
    {
     "name": "stderr",
     "output_type": "stream",
     "text": [
      "Traceback (most recent call last):\n",
      "  File \"<ipython-input-62-d82bc38c0ad4>\", line 188, in cropped_img\n",
      "    op = self.model_predict()\n",
      "  File \"<ipython-input-62-d82bc38c0ad4>\", line 209, in model_predict\n",
      "    img = image.load_img(self.image_path, target_size=(150, 150))\n",
      "AttributeError: 'numpy.ndarray' object has no attribute 'load_img'\n"
     ]
    },
    {
     "name": "stdout",
     "output_type": "stream",
     "text": [
      "frame.png\n",
      "without_mask\n",
      "Image Saved\n"
     ]
    },
    {
     "name": "stderr",
     "output_type": "stream",
     "text": [
      "Traceback (most recent call last):\n",
      "  File \"<ipython-input-62-d82bc38c0ad4>\", line 188, in cropped_img\n",
      "    op = self.model_predict()\n",
      "  File \"<ipython-input-62-d82bc38c0ad4>\", line 209, in model_predict\n",
      "    img = image.load_img(self.image_path, target_size=(150, 150))\n",
      "AttributeError: 'numpy.ndarray' object has no attribute 'load_img'\n"
     ]
    },
    {
     "name": "stdout",
     "output_type": "stream",
     "text": [
      "frame.png\n",
      "without_mask\n",
      "without_mask\n",
      "Image Saved\n"
     ]
    },
    {
     "name": "stderr",
     "output_type": "stream",
     "text": [
      "Traceback (most recent call last):\n",
      "  File \"<ipython-input-62-d82bc38c0ad4>\", line 188, in cropped_img\n",
      "    op = self.model_predict()\n",
      "  File \"<ipython-input-62-d82bc38c0ad4>\", line 209, in model_predict\n",
      "    img = image.load_img(self.image_path, target_size=(150, 150))\n",
      "AttributeError: 'numpy.ndarray' object has no attribute 'load_img'\n"
     ]
    },
    {
     "name": "stdout",
     "output_type": "stream",
     "text": [
      "Image Saved\n"
     ]
    },
    {
     "name": "stderr",
     "output_type": "stream",
     "text": [
      "Traceback (most recent call last):\n",
      "  File \"<ipython-input-62-d82bc38c0ad4>\", line 188, in cropped_img\n",
      "    op = self.model_predict()\n",
      "  File \"<ipython-input-62-d82bc38c0ad4>\", line 209, in model_predict\n",
      "    img = image.load_img(self.image_path, target_size=(150, 150))\n",
      "AttributeError: 'numpy.ndarray' object has no attribute 'load_img'\n"
     ]
    },
    {
     "name": "stdout",
     "output_type": "stream",
     "text": [
      "frame.png\n",
      "without_mask\n",
      "without_mask\n",
      "Image Saved\n"
     ]
    },
    {
     "name": "stderr",
     "output_type": "stream",
     "text": [
      "Traceback (most recent call last):\n",
      "  File \"<ipython-input-62-d82bc38c0ad4>\", line 188, in cropped_img\n",
      "    op = self.model_predict()\n",
      "  File \"<ipython-input-62-d82bc38c0ad4>\", line 209, in model_predict\n",
      "    img = image.load_img(self.image_path, target_size=(150, 150))\n",
      "AttributeError: 'numpy.ndarray' object has no attribute 'load_img'\n"
     ]
    },
    {
     "name": "stdout",
     "output_type": "stream",
     "text": [
      "Image Saved\n"
     ]
    },
    {
     "name": "stderr",
     "output_type": "stream",
     "text": [
      "Traceback (most recent call last):\n",
      "  File \"<ipython-input-62-d82bc38c0ad4>\", line 188, in cropped_img\n",
      "    op = self.model_predict()\n",
      "  File \"<ipython-input-62-d82bc38c0ad4>\", line 209, in model_predict\n",
      "    img = image.load_img(self.image_path, target_size=(150, 150))\n",
      "AttributeError: 'numpy.ndarray' object has no attribute 'load_img'\n"
     ]
    },
    {
     "name": "stdout",
     "output_type": "stream",
     "text": [
      "frame.png\n",
      "without_mask\n",
      "with_mask\n",
      "Image Saved\n"
     ]
    },
    {
     "name": "stderr",
     "output_type": "stream",
     "text": [
      "Traceback (most recent call last):\n",
      "  File \"<ipython-input-62-d82bc38c0ad4>\", line 188, in cropped_img\n",
      "    op = self.model_predict()\n",
      "  File \"<ipython-input-62-d82bc38c0ad4>\", line 209, in model_predict\n",
      "    img = image.load_img(self.image_path, target_size=(150, 150))\n",
      "AttributeError: 'numpy.ndarray' object has no attribute 'load_img'\n"
     ]
    },
    {
     "name": "stdout",
     "output_type": "stream",
     "text": [
      "Person with Mask Detected!!\n",
      "frame.png\n",
      "without_mask\n",
      "Image Saved\n"
     ]
    },
    {
     "name": "stderr",
     "output_type": "stream",
     "text": [
      "Traceback (most recent call last):\n",
      "  File \"<ipython-input-62-d82bc38c0ad4>\", line 188, in cropped_img\n",
      "    op = self.model_predict()\n",
      "  File \"<ipython-input-62-d82bc38c0ad4>\", line 209, in model_predict\n",
      "    img = image.load_img(self.image_path, target_size=(150, 150))\n",
      "AttributeError: 'numpy.ndarray' object has no attribute 'load_img'\n"
     ]
    },
    {
     "name": "stdout",
     "output_type": "stream",
     "text": [
      "frame.png\n",
      "without_mask\n",
      "Image Saved\n"
     ]
    },
    {
     "name": "stderr",
     "output_type": "stream",
     "text": [
      "Traceback (most recent call last):\n",
      "  File \"<ipython-input-62-d82bc38c0ad4>\", line 188, in cropped_img\n",
      "    op = self.model_predict()\n",
      "  File \"<ipython-input-62-d82bc38c0ad4>\", line 209, in model_predict\n",
      "    img = image.load_img(self.image_path, target_size=(150, 150))\n",
      "AttributeError: 'numpy.ndarray' object has no attribute 'load_img'\n"
     ]
    },
    {
     "name": "stdout",
     "output_type": "stream",
     "text": [
      "frame.png\n",
      "with_mask\n",
      "Person with Mask Detected!!\n",
      "frame.png\n",
      "frame.png\n",
      "frame.png\n",
      "without_mask\n",
      "Image Saved\n"
     ]
    },
    {
     "name": "stderr",
     "output_type": "stream",
     "text": [
      "Traceback (most recent call last):\n",
      "  File \"<ipython-input-62-d82bc38c0ad4>\", line 188, in cropped_img\n",
      "    op = self.model_predict()\n",
      "  File \"<ipython-input-62-d82bc38c0ad4>\", line 209, in model_predict\n",
      "    img = image.load_img(self.image_path, target_size=(150, 150))\n",
      "AttributeError: 'numpy.ndarray' object has no attribute 'load_img'\n"
     ]
    },
    {
     "name": "stdout",
     "output_type": "stream",
     "text": [
      "frame.png\n",
      "frame.png\n",
      "without_mask\n",
      "Image Saved\n"
     ]
    },
    {
     "name": "stderr",
     "output_type": "stream",
     "text": [
      "Traceback (most recent call last):\n",
      "  File \"<ipython-input-62-d82bc38c0ad4>\", line 188, in cropped_img\n",
      "    op = self.model_predict()\n",
      "  File \"<ipython-input-62-d82bc38c0ad4>\", line 209, in model_predict\n",
      "    img = image.load_img(self.image_path, target_size=(150, 150))\n",
      "AttributeError: 'numpy.ndarray' object has no attribute 'load_img'\n"
     ]
    },
    {
     "name": "stdout",
     "output_type": "stream",
     "text": [
      "frame.png\n",
      "without_mask\n",
      "Image Saved\n"
     ]
    },
    {
     "name": "stderr",
     "output_type": "stream",
     "text": [
      "Traceback (most recent call last):\n",
      "  File \"<ipython-input-62-d82bc38c0ad4>\", line 188, in cropped_img\n",
      "    op = self.model_predict()\n",
      "  File \"<ipython-input-62-d82bc38c0ad4>\", line 209, in model_predict\n",
      "    img = image.load_img(self.image_path, target_size=(150, 150))\n",
      "AttributeError: 'numpy.ndarray' object has no attribute 'load_img'\n"
     ]
    },
    {
     "name": "stdout",
     "output_type": "stream",
     "text": [
      "frame.png\n",
      "without_mask\n",
      "Image Saved\n"
     ]
    },
    {
     "name": "stderr",
     "output_type": "stream",
     "text": [
      "Traceback (most recent call last):\n",
      "  File \"<ipython-input-62-d82bc38c0ad4>\", line 188, in cropped_img\n",
      "    op = self.model_predict()\n",
      "  File \"<ipython-input-62-d82bc38c0ad4>\", line 209, in model_predict\n",
      "    img = image.load_img(self.image_path, target_size=(150, 150))\n",
      "AttributeError: 'numpy.ndarray' object has no attribute 'load_img'\n"
     ]
    },
    {
     "name": "stdout",
     "output_type": "stream",
     "text": [
      "frame.png\n",
      "with_mask\n",
      "Person with Mask Detected!!\n",
      "frame.png\n",
      "without_mask\n",
      "Image Saved\n"
     ]
    },
    {
     "name": "stderr",
     "output_type": "stream",
     "text": [
      "Traceback (most recent call last):\n",
      "  File \"<ipython-input-62-d82bc38c0ad4>\", line 188, in cropped_img\n",
      "    op = self.model_predict()\n",
      "  File \"<ipython-input-62-d82bc38c0ad4>\", line 209, in model_predict\n",
      "    img = image.load_img(self.image_path, target_size=(150, 150))\n",
      "AttributeError: 'numpy.ndarray' object has no attribute 'load_img'\n"
     ]
    },
    {
     "name": "stdout",
     "output_type": "stream",
     "text": [
      "frame.png\n",
      "without_mask\n",
      "Image Saved\n"
     ]
    },
    {
     "name": "stderr",
     "output_type": "stream",
     "text": [
      "Traceback (most recent call last):\n",
      "  File \"<ipython-input-62-d82bc38c0ad4>\", line 188, in cropped_img\n",
      "    op = self.model_predict()\n",
      "  File \"<ipython-input-62-d82bc38c0ad4>\", line 209, in model_predict\n",
      "    img = image.load_img(self.image_path, target_size=(150, 150))\n",
      "AttributeError: 'numpy.ndarray' object has no attribute 'load_img'\n"
     ]
    },
    {
     "name": "stdout",
     "output_type": "stream",
     "text": [
      "frame.png\n",
      "without_mask\n",
      "Image Saved\n"
     ]
    },
    {
     "name": "stderr",
     "output_type": "stream",
     "text": [
      "Traceback (most recent call last):\n",
      "  File \"<ipython-input-62-d82bc38c0ad4>\", line 188, in cropped_img\n",
      "    op = self.model_predict()\n",
      "  File \"<ipython-input-62-d82bc38c0ad4>\", line 209, in model_predict\n",
      "    img = image.load_img(self.image_path, target_size=(150, 150))\n",
      "AttributeError: 'numpy.ndarray' object has no attribute 'load_img'\n"
     ]
    },
    {
     "name": "stdout",
     "output_type": "stream",
     "text": [
      "frame.png\n",
      "without_mask\n",
      "Image Saved\n"
     ]
    },
    {
     "name": "stderr",
     "output_type": "stream",
     "text": [
      "Traceback (most recent call last):\n",
      "  File \"<ipython-input-62-d82bc38c0ad4>\", line 188, in cropped_img\n",
      "    op = self.model_predict()\n",
      "  File \"<ipython-input-62-d82bc38c0ad4>\", line 209, in model_predict\n",
      "    img = image.load_img(self.image_path, target_size=(150, 150))\n",
      "AttributeError: 'numpy.ndarray' object has no attribute 'load_img'\n"
     ]
    },
    {
     "name": "stdout",
     "output_type": "stream",
     "text": [
      "frame.png\n",
      "without_mask\n",
      "Image Saved\n"
     ]
    },
    {
     "name": "stderr",
     "output_type": "stream",
     "text": [
      "Traceback (most recent call last):\n",
      "  File \"<ipython-input-62-d82bc38c0ad4>\", line 188, in cropped_img\n",
      "    op = self.model_predict()\n",
      "  File \"<ipython-input-62-d82bc38c0ad4>\", line 209, in model_predict\n",
      "    img = image.load_img(self.image_path, target_size=(150, 150))\n",
      "AttributeError: 'numpy.ndarray' object has no attribute 'load_img'\n"
     ]
    },
    {
     "name": "stdout",
     "output_type": "stream",
     "text": [
      "frame.png\n",
      "without_mask\n",
      "Image Saved\n"
     ]
    },
    {
     "name": "stderr",
     "output_type": "stream",
     "text": [
      "Traceback (most recent call last):\n",
      "  File \"<ipython-input-62-d82bc38c0ad4>\", line 188, in cropped_img\n",
      "    op = self.model_predict()\n",
      "  File \"<ipython-input-62-d82bc38c0ad4>\", line 209, in model_predict\n",
      "    img = image.load_img(self.image_path, target_size=(150, 150))\n",
      "AttributeError: 'numpy.ndarray' object has no attribute 'load_img'\n"
     ]
    },
    {
     "name": "stdout",
     "output_type": "stream",
     "text": [
      "frame.png\n",
      "frame.png\n",
      "without_mask\n",
      "Image Saved\n"
     ]
    },
    {
     "name": "stderr",
     "output_type": "stream",
     "text": [
      "Traceback (most recent call last):\n",
      "  File \"<ipython-input-62-d82bc38c0ad4>\", line 188, in cropped_img\n",
      "    op = self.model_predict()\n",
      "  File \"<ipython-input-62-d82bc38c0ad4>\", line 209, in model_predict\n",
      "    img = image.load_img(self.image_path, target_size=(150, 150))\n",
      "AttributeError: 'numpy.ndarray' object has no attribute 'load_img'\n"
     ]
    },
    {
     "name": "stdout",
     "output_type": "stream",
     "text": [
      "frame.png\n",
      "without_mask\n",
      "Image Saved\n"
     ]
    },
    {
     "name": "stderr",
     "output_type": "stream",
     "text": [
      "Traceback (most recent call last):\n",
      "  File \"<ipython-input-62-d82bc38c0ad4>\", line 188, in cropped_img\n",
      "    op = self.model_predict()\n",
      "  File \"<ipython-input-62-d82bc38c0ad4>\", line 209, in model_predict\n",
      "    img = image.load_img(self.image_path, target_size=(150, 150))\n",
      "AttributeError: 'numpy.ndarray' object has no attribute 'load_img'\n"
     ]
    },
    {
     "name": "stdout",
     "output_type": "stream",
     "text": [
      "frame.png\n",
      "without_mask\n",
      "Image Saved\n"
     ]
    },
    {
     "name": "stderr",
     "output_type": "stream",
     "text": [
      "Traceback (most recent call last):\n",
      "  File \"<ipython-input-62-d82bc38c0ad4>\", line 188, in cropped_img\n",
      "    op = self.model_predict()\n",
      "  File \"<ipython-input-62-d82bc38c0ad4>\", line 209, in model_predict\n",
      "    img = image.load_img(self.image_path, target_size=(150, 150))\n",
      "AttributeError: 'numpy.ndarray' object has no attribute 'load_img'\n"
     ]
    },
    {
     "ename": "AttributeError",
     "evalue": "'cv2.VideoCapture' object has no attribute 'stop'",
     "output_type": "error",
     "traceback": [
      "\u001b[1;31m---------------------------------------------------------------------------\u001b[0m",
      "\u001b[1;31mAttributeError\u001b[0m                            Traceback (most recent call last)",
      "\u001b[1;32m<ipython-input-67-492ee3290023>\u001b[0m in \u001b[0;36m<module>\u001b[1;34m\u001b[0m\n\u001b[0;32m     40\u001b[0m             \u001b[0mcv2\u001b[0m\u001b[1;33m.\u001b[0m\u001b[0mdestroyAllWindows\u001b[0m\u001b[1;33m(\u001b[0m\u001b[1;33m)\u001b[0m\u001b[1;33m\u001b[0m\u001b[1;33m\u001b[0m\u001b[0m\n\u001b[0;32m     41\u001b[0m             \u001b[0mcap\u001b[0m\u001b[1;33m.\u001b[0m\u001b[0mrelease\u001b[0m\u001b[1;33m(\u001b[0m\u001b[1;33m)\u001b[0m\u001b[1;33m\u001b[0m\u001b[1;33m\u001b[0m\u001b[0m\n\u001b[1;32m---> 42\u001b[1;33m             \u001b[0mcap\u001b[0m\u001b[1;33m.\u001b[0m\u001b[0mstop\u001b[0m\u001b[1;33m(\u001b[0m\u001b[1;33m)\u001b[0m\u001b[1;33m\u001b[0m\u001b[1;33m\u001b[0m\u001b[0m\n\u001b[0m\u001b[0;32m     43\u001b[0m             \u001b[1;32mbreak\u001b[0m\u001b[1;33m\u001b[0m\u001b[1;33m\u001b[0m\u001b[0m\n\u001b[0;32m     44\u001b[0m \u001b[1;33m\u001b[0m\u001b[0m\n",
      "\u001b[1;31mAttributeError\u001b[0m: 'cv2.VideoCapture' object has no attribute 'stop'"
     ]
    }
   ],
   "source": [
    "import datetime\n",
    "\n",
    "cap = cv2.VideoCapture(0) \n",
    "start_time = datetime.datetime.now()\n",
    "num_frames = 0   \n",
    "# Check if camera opened successfully \n",
    "if (cap.isOpened()== False):\n",
    "    print(\"Error opening video  file\") \n",
    "   \n",
    "# Read until video is completed \n",
    "while(cap.isOpened()):\n",
    "    ret, frame = cap.read()\n",
    "    if ret == True:\n",
    "        cv2.imwrite('frame.png',frame)\n",
    "        obj = MultiClassObj('frame.png')\n",
    "        result, img = obj.getPrediction()\n",
    "        image = cv2.imread(r'E:\\I-Neuron\\My-Projects\\Mask-Detection\\test_images\\output\\detected\\output(detection).jpg')\n",
    "        obj.cropped_img(img, result)\n",
    "        #obj.model_predict()\n",
    "\n",
    "        num_frames += 1\n",
    "        elapsed_time = (datetime.datetime.now() -\n",
    "                            start_time).total_seconds()\n",
    "        fps = num_frames / elapsed_time\n",
    "    \n",
    "        \n",
    "    #cv2.putText(image_np, 'FPS:', (20, 50),cv2.FONT_HERSHEY_SIMPLEX, 0.75, (77, 255, 9), 2)\n",
    "        cv2.putText(image, \"FPS : \" + str(\"{0:.2f}\".format(fps)), (20, 50),cv2.FONT_HERSHEY_SIMPLEX, 0.75, (77, 255, 9), 2)\n",
    "        cv2.putText(image, \"O/P : \" + str(op), (20, 90),cv2.FONT_HERSHEY_SIMPLEX, 0.75, (77, 255, 9), 2)\n",
    "    \n",
    "    \n",
    "    \n",
    "    \n",
    "   \n",
    "    # Display the resulting frame \n",
    "        cv2.imshow('Frame', image) \n",
    "   \n",
    "    # Press Q on keyboard to  exit \n",
    "        if cv2.waitKey(25) & 0xFF == ord('q'): \n",
    "            cv2.destroyAllWindows() \n",
    "            cap.release()\n",
    "            cap.stop()\n",
    "            break\n",
    "   \n"
   ]
  },
  {
   "cell_type": "code",
   "execution_count": 152,
   "metadata": {},
   "outputs": [
    {
     "data": {
      "text/plain": [
       "['output(detection).jpg']"
      ]
     },
     "execution_count": 152,
     "metadata": {},
     "output_type": "execute_result"
    }
   ],
   "source": [
    "import glob\n",
    "a  = os.listdir('./test_images/output/detected/')\n",
    "mask_detect_imgs = glob.glob('./test_images/output/detected/*')\n",
    "mask_detect_imgs\n",
    "a"
   ]
  },
  {
   "cell_type": "code",
   "execution_count": 154,
   "metadata": {},
   "outputs": [
    {
     "data": {
      "text/plain": [
       "['test_images/output\\\\./test_images/output/detected\\\\output(detection).jpg']"
      ]
     },
     "execution_count": 154,
     "metadata": {},
     "output_type": "execute_result"
    }
   ],
   "source": [
    "root = 'test_images/output'\n",
    "a = [os.path.join(root,file) for file in mask_detect_imgs]\n",
    "a"
   ]
  },
  {
   "cell_type": "code",
   "execution_count": 2,
   "metadata": {},
   "outputs": [
    {
     "ename": "FileNotFoundError",
     "evalue": "[WinError 2] The system cannot find the file specified: 'output(detection).jpg'",
     "output_type": "error",
     "traceback": [
      "\u001b[1;31m---------------------------------------------------------------------------\u001b[0m",
      "\u001b[1;31mFileNotFoundError\u001b[0m                         Traceback (most recent call last)",
      "\u001b[1;32m<ipython-input-2-268dec67fbd4>\u001b[0m in \u001b[0;36m<module>\u001b[1;34m\u001b[0m\n\u001b[0;32m      1\u001b[0m \u001b[1;32mimport\u001b[0m \u001b[0mos\u001b[0m\u001b[1;33m\u001b[0m\u001b[1;33m\u001b[0m\u001b[0m\n\u001b[1;32m----> 2\u001b[1;33m \u001b[0mt_list\u001b[0m \u001b[1;33m=\u001b[0m \u001b[1;33m[\u001b[0m\u001b[0mos\u001b[0m\u001b[1;33m.\u001b[0m\u001b[0mremove\u001b[0m\u001b[1;33m(\u001b[0m\u001b[0mfile\u001b[0m\u001b[1;33m)\u001b[0m \u001b[1;32mfor\u001b[0m \u001b[0mfile\u001b[0m \u001b[1;32min\u001b[0m \u001b[0mos\u001b[0m\u001b[1;33m.\u001b[0m\u001b[0mlistdir\u001b[0m\u001b[1;33m(\u001b[0m\u001b[1;34m'./test_images/output/detected'\u001b[0m\u001b[1;33m)\u001b[0m\u001b[1;33m]\u001b[0m\u001b[1;33m\u001b[0m\u001b[1;33m\u001b[0m\u001b[0m\n\u001b[0m\u001b[0;32m      3\u001b[0m \u001b[0mt_list\u001b[0m\u001b[1;33m\u001b[0m\u001b[1;33m\u001b[0m\u001b[0m\n",
      "\u001b[1;32m<ipython-input-2-268dec67fbd4>\u001b[0m in \u001b[0;36m<listcomp>\u001b[1;34m(.0)\u001b[0m\n\u001b[0;32m      1\u001b[0m \u001b[1;32mimport\u001b[0m \u001b[0mos\u001b[0m\u001b[1;33m\u001b[0m\u001b[1;33m\u001b[0m\u001b[0m\n\u001b[1;32m----> 2\u001b[1;33m \u001b[0mt_list\u001b[0m \u001b[1;33m=\u001b[0m \u001b[1;33m[\u001b[0m\u001b[0mos\u001b[0m\u001b[1;33m.\u001b[0m\u001b[0mremove\u001b[0m\u001b[1;33m(\u001b[0m\u001b[0mfile\u001b[0m\u001b[1;33m)\u001b[0m \u001b[1;32mfor\u001b[0m \u001b[0mfile\u001b[0m \u001b[1;32min\u001b[0m \u001b[0mos\u001b[0m\u001b[1;33m.\u001b[0m\u001b[0mlistdir\u001b[0m\u001b[1;33m(\u001b[0m\u001b[1;34m'./test_images/output/detected'\u001b[0m\u001b[1;33m)\u001b[0m\u001b[1;33m]\u001b[0m\u001b[1;33m\u001b[0m\u001b[1;33m\u001b[0m\u001b[0m\n\u001b[0m\u001b[0;32m      3\u001b[0m \u001b[0mt_list\u001b[0m\u001b[1;33m\u001b[0m\u001b[1;33m\u001b[0m\u001b[0m\n",
      "\u001b[1;31mFileNotFoundError\u001b[0m: [WinError 2] The system cannot find the file specified: 'output(detection).jpg'"
     ]
    }
   ],
   "source": [
    "import os\n",
    "t_list = [os.remove(file) for file in os.listdir('./test_images/output/detected')]\n",
    "t_list"
   ]
  },
  {
   "cell_type": "code",
   "execution_count": 5,
   "metadata": {},
   "outputs": [
    {
     "data": {
      "text/plain": [
       "['./test_images/output/detected\\\\output(detection).jpg']"
      ]
     },
     "execution_count": 5,
     "metadata": {},
     "output_type": "execute_result"
    }
   ],
   "source": [
    "import glob\n",
    "\n",
    "files = glob.glob('./test_images/output/detected/*.jpg', recursive=True)\n",
    "files"
   ]
  },
  {
   "cell_type": "code",
   "execution_count": 13,
   "metadata": {},
   "outputs": [
    {
     "name": "stdout",
     "output_type": "stream",
     "text": [
      "1926\n"
     ]
    }
   ],
   "source": [
    "import datetime\n",
    "print(datetime.datetime.now().time().strftime(\"%M%S\"))"
   ]
  },
  {
   "cell_type": "code",
   "execution_count": 14,
   "metadata": {},
   "outputs": [
    {
     "data": {
      "text/plain": [
       "True"
      ]
     },
     "execution_count": 14,
     "metadata": {},
     "output_type": "execute_result"
    }
   ],
   "source": [
    "os.path.isfile('data.csv')\n"
   ]
  },
  {
   "cell_type": "markdown",
   "metadata": {},
   "source": [
    "<img src=\"E:\\I-Neuron\\My-Projects\\Mask-Detection\\test_images\\output\\detected\\output(detection)5539.jpg\">"
   ]
  },
  {
   "cell_type": "code",
   "execution_count": null,
   "metadata": {},
   "outputs": [],
   "source": []
  }
 ],
 "metadata": {
  "kernelspec": {
   "display_name": "Python 3",
   "language": "python",
   "name": "python3"
  },
  "language_info": {
   "codemirror_mode": {
    "name": "ipython",
    "version": 3
   },
   "file_extension": ".py",
   "mimetype": "text/x-python",
   "name": "python",
   "nbconvert_exporter": "python",
   "pygments_lexer": "ipython3",
   "version": "3.6.12"
  }
 },
 "nbformat": 4,
 "nbformat_minor": 4
}
